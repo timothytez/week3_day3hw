{
 "cells": [
  {
   "cell_type": "markdown",
   "metadata": {},
   "source": [
    "# Map, Filter, Reduce, Lambda & Recursion"
   ]
  },
  {
   "cell_type": "markdown",
   "metadata": {},
   "source": [
    "## Tasks Today:\n",
    "\n",
    "1) <b>Lambda Functions</b> <br>\n",
    " &nbsp;&nbsp;&nbsp;&nbsp; a) Syntax <br>\n",
    " &nbsp;&nbsp;&nbsp;&nbsp; b) Saving to a Variable <br>\n",
    " &nbsp;&nbsp;&nbsp;&nbsp; c) Multiple Inputs <br>\n",
    " &nbsp;&nbsp;&nbsp;&nbsp; d) Passing a Lambda into a Function <br>\n",
    " &nbsp;&nbsp;&nbsp;&nbsp; e) Returning a Lambda from a Function <br>\n",
    " &nbsp;&nbsp;&nbsp;&nbsp; f) In-Class Exercise #1 <br>\n",
    "2) <b>Map</b> <br>\n",
    " &nbsp;&nbsp;&nbsp;&nbsp; a) Syntax <br>\n",
    " &nbsp;&nbsp;&nbsp;&nbsp; b) Using Lambda's with Map <br>\n",
    " &nbsp;&nbsp;&nbsp;&nbsp; c) In-Class Exercise #2 <br>\n",
    "3) <b>Filter</b> <br>\n",
    " &nbsp;&nbsp;&nbsp;&nbsp; a) Syntax <br>\n",
    " &nbsp;&nbsp;&nbsp;&nbsp; b) Using Lambda's with Filter <br>\n",
    " &nbsp;&nbsp;&nbsp;&nbsp; c) In-Class Exercise #3 <br>\n",
    "4) <b>Reduce</b> <br>\n",
    " &nbsp;&nbsp;&nbsp;&nbsp; a) Syntax <br>\n",
    " &nbsp;&nbsp;&nbsp;&nbsp; b) Using Lambda's with Reduce <br>\n",
    " &nbsp;&nbsp;&nbsp;&nbsp; c) In-Class Exercise #4 <br>\n",
    "5) <b>Recursion</b> <br>\n",
    " &nbsp;&nbsp;&nbsp;&nbsp; a) Implementing a Base <br>\n",
    " &nbsp;&nbsp;&nbsp;&nbsp; b) Writing a Factorial Function <br>\n",
    " &nbsp;&nbsp;&nbsp;&nbsp; c) In-Class Exercise #5 <br>\n",
    "6) <b>Generators & Iterators</b> <br>\n",
    " &nbsp;&nbsp;&nbsp;&nbsp; a) Yield Keyword <br>\n",
    " &nbsp;&nbsp;&nbsp;&nbsp; b) Inifinite Generator <br>\n",
    " &nbsp;&nbsp;&nbsp;&nbsp; c) In-Class Exercise #6 <br>\n",
    "7) <b>Exercises</b> <br>\n",
    " &nbsp;&nbsp;&nbsp;&nbsp; a) Exercise #1 - Filtering Empty Strings <br>\n",
    " &nbsp;&nbsp;&nbsp;&nbsp; b) Exercise #2 - Sorting with Last Name <br>\n",
    " &nbsp;&nbsp;&nbsp;&nbsp; c) Exercise #3 - Conversion to Farhenheit <br>\n",
    " &nbsp;&nbsp;&nbsp;&nbsp; d) Exercise #4 - Fibonacci Sequence <br>"
   ]
  },
  {
   "cell_type": "markdown",
   "metadata": {},
   "source": [
    "## Lambda Functions <br>\n",
    "<p>Lambda functions... or \"Anonymous Functions\" are referring to inline functions with no name. The keyword lambda denotes the no name function, and executes within a single line. Without saving it to a variable; however, it is not able to be used, unless passed in either as a paramater or within list comprehension.<br>Written as \"(keyword lambda) (one or more inputs) (colon) (function to be executed)\"</p>"
   ]
  },
  {
   "cell_type": "markdown",
   "metadata": {},
   "source": [
    "#### Syntax"
   ]
  },
  {
   "cell_type": "code",
   "execution_count": 2,
   "metadata": {},
   "outputs": [],
   "source": [
    "(lambda num1, num2: num1 + num2)(5,6)\n",
    "\n",
    "def add_two_nums(num1,num2):\n",
    "    return num1 + num2"
   ]
  },
  {
   "cell_type": "markdown",
   "metadata": {},
   "source": [
    "#### Saving to a Variable"
   ]
  },
  {
   "cell_type": "code",
   "execution_count": 4,
   "metadata": {},
   "outputs": [
    {
     "data": {
      "text/plain": [
       "100"
      ]
     },
     "execution_count": 4,
     "metadata": {},
     "output_type": "execute_result"
    }
   ],
   "source": [
    "square_num = lambda num: num**2\n",
    "\n",
    "\n",
    "adder = lambda num1, num2: num1 + num2\n",
    "\n",
    "adder(10,11)\n",
    "\n",
    "adder(20,30)\n",
    "\n",
    "square_num(10)"
   ]
  },
  {
   "cell_type": "markdown",
   "metadata": {},
   "source": [
    "#### Multiple Inputs"
   ]
  },
  {
   "cell_type": "code",
   "execution_count": 6,
   "metadata": {},
   "outputs": [],
   "source": [
    "#see above\n",
    "\n",
    "(lambda num1, num2, num3: num1 +num2 +num3)(1,2,3)\n",
    "\n",
    "def add_three_num(num1,num2,num3):\n",
    "    return num1 + num2 + num3"
   ]
  },
  {
   "cell_type": "markdown",
   "metadata": {},
   "source": [
    "#### Passing a Lambda into a Function"
   ]
  },
  {
   "cell_type": "code",
   "execution_count": 11,
   "metadata": {},
   "outputs": [
    {
     "data": {
      "text/plain": [
       "0"
      ]
     },
     "execution_count": 11,
     "metadata": {},
     "output_type": "execute_result"
    }
   ],
   "source": [
    "def math_operation(f, num):\n",
    "    return f(num)\n",
    "\n",
    "math_operation(lambda lambda_num: lambda_num * 2 , 5)\n",
    "\n",
    "math_operation(lambda lambda_num: lambda_num / 10,100)\n",
    "\n",
    "math_operation(lambda lambda_num: lambda_num - 50, 50)"
   ]
  },
  {
   "cell_type": "markdown",
   "metadata": {},
   "source": [
    "#### Returning a Lambda from a Function"
   ]
  },
  {
   "cell_type": "code",
   "execution_count": 19,
   "metadata": {},
   "outputs": [
    {
     "name": "stdout",
     "output_type": "stream",
     "text": [
      "10\n"
     ]
    },
    {
     "data": {
      "text/plain": [
       "402"
      ]
     },
     "execution_count": 19,
     "metadata": {},
     "output_type": "execute_result"
    }
   ],
   "source": [
    "local_var = 100\n",
    "\n",
    "def outter_function():\n",
    "    local_var = 10\n",
    "\n",
    "    def inner(num):\n",
    "        inner_var = 11\n",
    "        print(local_var)\n",
    "        return num + local_var\n",
    "    \n",
    "    return inner\n",
    "\n",
    "outter_function()(50)\n",
    "\n",
    "\n",
    "def outter_function2(num1,num2):\n",
    "    return lambda num3: (num1 + num2) * num3\n",
    "\n",
    "multiply_twenty_one = outter_function2(10,11)\n",
    "\n",
    "multiply_twenty_one(2)\n",
    "\n",
    "multiply_twenty_one(10)\n",
    "\n",
    "multiply_201 = outter_function2(100,101)\n",
    "\n",
    "multiply_201(2)\n",
    "\n"
   ]
  },
  {
   "cell_type": "markdown",
   "metadata": {},
   "source": [
    "#### If Statements within Lambdas"
   ]
  },
  {
   "cell_type": "code",
   "execution_count": 21,
   "metadata": {},
   "outputs": [
    {
     "data": {
      "text/plain": [
       "'brandon'"
      ]
     },
     "execution_count": 21,
     "metadata": {},
     "output_type": "execute_result"
    }
   ],
   "source": [
    "(lambda num: num - 10 if num > 10 else num + 10)(20)\n",
    "\n",
    "add_or_substract_10 = lambda num: num - 10 if num > 10 else num + 10\n",
    "\n",
    "add_or_substract_10(5)\n",
    "\n",
    "capital_vowells = lambda word: word.capitalize() if word [0]in 'aeiou' else word.lower()\n",
    "\n",
    "capital_vowells('adam')\n",
    "capital_vowells('Brandon')\n"
   ]
  },
  {
   "cell_type": "markdown",
   "metadata": {},
   "source": [
    "#### In-Class Exercise #1 <br>\n",
    "<p>Write an anonymous function that cubes the arguments passed in and assign the anonymous function to a variable 'f'.</p>"
   ]
  },
  {
   "cell_type": "code",
   "execution_count": null,
   "metadata": {},
   "outputs": [],
   "source": []
  },
  {
   "cell_type": "markdown",
   "metadata": {},
   "source": [
    "## Map <br>\n",
    "<p>The map function allows you to iterate over an entire list while running a function on each item of the list. This is why the map function works well with lambda's, because it simplifies things and you write less lines of code.<br>The syntax for a map function is \"map(function to be used, list to be used)\"<br>However, you must be careful, as the map function returns a map object, not a list. To turn it into a list we use the list() type conversion.</p>"
   ]
  },
  {
   "cell_type": "markdown",
   "metadata": {},
   "source": [
    "#### Syntax"
   ]
  },
  {
   "cell_type": "code",
   "execution_count": 28,
   "metadata": {},
   "outputs": [
    {
     "data": {
      "text/plain": [
       "[21, 22, 23, 15]"
      ]
     },
     "execution_count": 28,
     "metadata": {},
     "output_type": "execute_result"
    }
   ],
   "source": [
    "list(map(lambda num: num**2, [1,2,3,4,5]))\n",
    "\n",
    "\n",
    "#quared_map_object = map(lambda num: num**2, [1,2,3,4,5]):\n",
    "\n",
    "#for square_num in squared_map_object:\n",
    " #   print(squared_num)\n",
    "\n",
    "#list(squared_map_object)\n",
    "[letter for letter in map(lambda letter: letter.upper(),'abcd')]\n",
    "\n",
    "def add_ten(num):\n",
    "    return num + 10\n",
    "\n",
    "list(map(add_ten, (11,12,13,5)))"
   ]
  },
  {
   "cell_type": "markdown",
   "metadata": {},
   "source": [
    "#### Using Lambda's with Map"
   ]
  },
  {
   "cell_type": "code",
   "execution_count": 29,
   "metadata": {},
   "outputs": [
    {
     "data": {
      "text/plain": [
       "['f', 'O', 'O', 'b', 'A', 'r']"
      ]
     },
     "execution_count": 29,
     "metadata": {},
     "output_type": "execute_result"
    }
   ],
   "source": [
    "#see above\n",
    "\n",
    "[letter for letter in map(lambda letter: letter.upper() if letter.lower() in 'aeiou' else letter, 'foobar')]\n",
    "\n"
   ]
  },
  {
   "cell_type": "markdown",
   "metadata": {},
   "source": [
    "#### In-Class Exercise #2 <br>\n",
    "<p>Use the map function to double each number and minus it by one in the list by using a lambda function</p>"
   ]
  },
  {
   "cell_type": "code",
   "execution_count": 36,
   "metadata": {},
   "outputs": [
    {
     "ename": "TypeError",
     "evalue": "'int' object is not iterable",
     "output_type": "error",
     "traceback": [
      "\u001b[1;31m---------------------------------------------------------------------------\u001b[0m",
      "\u001b[1;31mTypeError\u001b[0m                                 Traceback (most recent call last)",
      "Cell \u001b[1;32mIn[36], line 3\u001b[0m\n\u001b[0;32m      1\u001b[0m \u001b[39m#map(lambda num: num**2, (num) - 1())\u001b[39;00m\n\u001b[1;32m----> 3\u001b[0m t \u001b[39m=\u001b[39m \u001b[39mmap\u001b[39;49m(\u001b[39mlambda\u001b[39;49;00m num: num\u001b[39m*\u001b[39;49m\u001b[39m*\u001b[39;49m\u001b[39m2\u001b[39;49m, \u001b[39m-\u001b[39;49m \u001b[39m1\u001b[39;49m)\n",
      "\u001b[1;31mTypeError\u001b[0m: 'int' object is not iterable"
     ]
    }
   ],
   "source": [
    "#map(lambda num: num**2, (num) - 1())\n",
    "\n",
    "t = map(lambda num: num**2, - 1)"
   ]
  },
  {
   "cell_type": "markdown",
   "metadata": {},
   "source": [
    "## Filter() <br>\n",
    "<p>Filter's are similar to the map function, where you're able to pass a function argument and a list argument and filter out something from the list based on the conditions passed. Similar to the map function, it returns a filter object, so you need to type convert it to a list()</p>"
   ]
  },
  {
   "cell_type": "markdown",
   "metadata": {},
   "source": [
    "#### Syntax"
   ]
  },
  {
   "cell_type": "code",
   "execution_count": 44,
   "metadata": {},
   "outputs": [
    {
     "data": {
      "text/plain": [
       "['b', 'c', 'd']"
      ]
     },
     "execution_count": 44,
     "metadata": {},
     "output_type": "execute_result"
    }
   ],
   "source": [
    "#filter(<func>, iterable) => filter_object\n",
    "\n",
    "def filter_vowel(letter):\n",
    "    return letter.lower() not in 'aeiou'\n",
    "\n",
    "    #if letter in 'aeiou':\n",
    "    #    return False\n",
    "    #else:\n",
    "    #    return True\n",
    "\n",
    "list(filter(filter_vowel, 'abcdeiouAEIOU'))"
   ]
  },
  {
   "cell_type": "markdown",
   "metadata": {},
   "source": [
    "#### Using Lambda's with Filter()"
   ]
  },
  {
   "cell_type": "code",
   "execution_count": 107,
   "metadata": {},
   "outputs": [
    {
     "data": {
      "text/plain": [
       "'josh lyla'"
      ]
     },
     "execution_count": 107,
     "metadata": {},
     "output_type": "execute_result"
    }
   ],
   "source": [
    "[letter for letter in filter(lambda letter: letter.lower() not in {'a','e','i','o','u'},'foobar')]\n",
    "\n",
    "' '.join(filter(lambda student: student[0] not in 'Tt', ['tom','josh','Tim','lyla','toby']))"
   ]
  },
  {
   "cell_type": "markdown",
   "metadata": {},
   "source": [
    "#### In-Class Exercise #3 <br>\n",
    "<p>Filter out all the numbers that are below the mean of the list.<br><b>Hint: Import the 'statistics' module</b></p>"
   ]
  },
  {
   "cell_type": "code",
   "execution_count": 66,
   "metadata": {},
   "outputs": [
    {
     "data": {
      "text/plain": [
       "'re3d g2reen blu4e yell0ow hotp1ink'"
      ]
     },
     "execution_count": 66,
     "metadata": {},
     "output_type": "execute_result"
    }
   ],
   "source": [
    "\n",
    "\n",
    "[color for color in filter(lambda color: color not in {0,1,2,3,4}, ('re3d', 'g2reen', 'blu4e', 'yell0ow', 'hotp1ink'))]\n",
    "\n",
    "' '. join(filter(lambda color: color[0]  not in '0,1,2,3,4', ['re3d', 'g2reen', 'blu4e', 'yell0ow', 'hotp1ink']))\n"
   ]
  },
  {
   "cell_type": "markdown",
   "metadata": {},
   "source": [
    "## Reduce() <br>\n",
    "<p>Be very careful when using this function, as of Python 3 it's been moved to the 'functools' library and no longer is a built-in function.<br>The creator of Python himself, says to just use a for loop instead.</p>"
   ]
  },
  {
   "cell_type": "markdown",
   "metadata": {},
   "source": [
    "#### Syntax"
   ]
  },
  {
   "cell_type": "code",
   "execution_count": 73,
   "metadata": {},
   "outputs": [
    {
     "data": {
      "text/plain": [
       "'matrix week 3 Python count'"
      ]
     },
     "execution_count": 73,
     "metadata": {},
     "output_type": "execute_result"
    }
   ],
   "source": [
    "\n",
    "from functools import reduce\n",
    "\n",
    "#fuctoolss.reduce(<func>, collection)\n",
    "\n",
    "def fuction(acc, num):\n",
    "    return acc + num\n",
    "\n",
    "reduce(adder, [1,2,3,4])\n",
    "\n",
    "matrix_word = ['matrix', 'week', '3', 'Python', 'count']\n",
    "\n",
    "def our_join(acc, word):\n",
    "    return acc + ' ' + word\n",
    "\n",
    "\n",
    "reduce(our_join, ['matrix', 'week', '3', 'Python', 'count'])"
   ]
  },
  {
   "cell_type": "markdown",
   "metadata": {},
   "source": [
    "#### Using Lambda's with Reduce()"
   ]
  },
  {
   "cell_type": "code",
   "execution_count": 74,
   "metadata": {},
   "outputs": [
    {
     "data": {
      "text/plain": [
       "'matrix week 3 Python count'"
      ]
     },
     "execution_count": 74,
     "metadata": {},
     "output_type": "execute_result"
    }
   ],
   "source": [
    "reduce(lambda acc, num: acc + num, [10,10,50,50])\n",
    "\n",
    "\n",
    "reduce(lambda acc, word: f'{acc} {word}', matrix_word)"
   ]
  },
  {
   "cell_type": "markdown",
   "metadata": {},
   "source": [
    "#### In-Class Exercise #4 <br>\n",
    "<p>Use the reduce function to multiply the numbers in the list below together with a lambda function.</p>"
   ]
  },
  {
   "cell_type": "code",
   "execution_count": 80,
   "metadata": {},
   "outputs": [
    {
     "data": {
      "text/plain": [
       "2400"
      ]
     },
     "execution_count": 80,
     "metadata": {},
     "output_type": "execute_result"
    }
   ],
   "source": [
    "#[10,5,6,8]\n",
    "reduce(lambda acc, num: acc * num, [10,5,6,8])"
   ]
  },
  {
   "cell_type": "code",
   "execution_count": 145,
   "metadata": {},
   "outputs": [
    {
     "ename": "SyntaxError",
     "evalue": "invalid syntax (882807992.py, line 1)",
     "output_type": "error",
     "traceback": [
      "\u001b[1;36m  Cell \u001b[1;32mIn[145], line 1\u001b[1;36m\u001b[0m\n\u001b[1;33m    fav_movie = ('lyla': 'top gun',\u001b[0m\n\u001b[1;37m                       ^\u001b[0m\n\u001b[1;31mSyntaxError\u001b[0m\u001b[1;31m:\u001b[0m invalid syntax\n"
     ]
    }
   ],
   "source": [
    "fav_movie = ('lyla': 'top gun',\n",
    "             'josh': 'the last samurai'\n",
    "             'mabel': 'fifth element'\n",
    "             'tom': 'big lebowski'\n",
    "             'raul': 'the dark knight'\n",
    "             'tim': 'pearl harbor'\n",
    "             'malid': 'gladiator'\n",
    "             'dylan': 'the joker'\n",
    "             'porter': 'underwater')\n",
    "\n",
    "\n",
    "reduce(lambda acc, k: f'{acc} {k}\\'s fav movie is {fav_movie[k]}', fav_movie)\n",
    "       \n",
    "       \n",
    "# if acc != 'lyla' else f'{k}\\'s fav movie is {fav_movie[k]}', fav_movie)"
   ]
  },
  {
   "cell_type": "code",
   "execution_count": null,
   "metadata": {},
   "outputs": [],
   "source": []
  },
  {
   "cell_type": "markdown",
   "metadata": {},
   "source": [
    "## Recursion <br>\n",
    "<p>Recursion means that a function is calling itself, so it contanstly executes until a base case is reached. It will then push the returning values back up the chain until the function is complete. A prime example of recursion is computing factorials... such that 5! (factorial) is 5*4*3*2*1 which equals 120.</p>"
   ]
  },
  {
   "cell_type": "markdown",
   "metadata": {},
   "source": [
    "#### Implementing a Base Case"
   ]
  },
  {
   "cell_type": "code",
   "execution_count": 93,
   "metadata": {},
   "outputs": [
    {
     "name": "stdout",
     "output_type": "stream",
     "text": [
      "recursive_add{num}) - recursive_add({num - 1}) + {num}\n",
      "recursive_add{num}) - recursive_add({num - 1}) + {num}\n",
      "recursive_add{num}) - recursive_add({num - 1}) + {num}\n",
      "recursive_add{num}) - recursive_add({num - 1}) + {num}\n",
      "recursive_add{num}) - recursive_add({num - 1}) + {num}\n",
      "recursive_add{num}) - recursive_add({num - 1}) + {num}\n",
      "recursive_add{num}) - recursive_add({num - 1}) + {num}\n",
      "recursive_add{num}) - recursive_add({num - 1}) + {num}\n",
      "recursive_add{num}) - recursive_add({num - 1}) + {num}\n",
      "recursive_add{num}) - recursive_add({num - 1}) + {num}\n",
      "recursive_add(num) - num\n"
     ]
    },
    {
     "data": {
      "text/plain": [
       "55"
      ]
     },
     "execution_count": 93,
     "metadata": {},
     "output_type": "execute_result"
    }
   ],
   "source": [
    "def recursive_add(num):\n",
    "    if num > 0:\n",
    "        print('recursive_add{num}) - recursive_add({num - 1}) + {num}')\n",
    "        return recursive_add(num - 1) + num\n",
    "    else:\n",
    "        print(f'recursive_add(num) - num')\n",
    "        return num\n",
    "    \n",
    "recursive_add(10)\n",
    "\n",
    "#recursive_add(5) = 5 + recursive_add(4)\n",
    "#recursive_add(4) = 4 + recursive_add(3)\n",
    "#recursive_add(3) = 3 + recursive_add(3)\n",
    "#recursive_add(2) = 2 + recursive_add(2)\n",
    "#recursive_add(1) = 1 + recursive_add(1)\n",
    "#recursive_add(0) = 0 + recursive_add(0)"
   ]
  },
  {
   "cell_type": "markdown",
   "metadata": {},
   "source": [
    "#### Writing a Factorial Function"
   ]
  },
  {
   "cell_type": "code",
   "execution_count": 96,
   "metadata": {},
   "outputs": [
    {
     "name": "stdout",
     "output_type": "stream",
     "text": [
      "find_factorial(5) = find_factorial(4) + 5\n",
      "find_factorial(4) = find_factorial(3) + 4\n",
      "find_factorial(3) = find_factorial(2) + 3\n",
      "find_factorial(2) = find_factorial(1) + 2\n"
     ]
    },
    {
     "data": {
      "text/plain": [
       "120"
      ]
     },
     "execution_count": 96,
     "metadata": {},
     "output_type": "execute_result"
    }
   ],
   "source": [
    "def find_factorial(num):\n",
    "    if num ==1:\n",
    "        return 1\n",
    "    \n",
    "    print(f'find_factorial({num}) = find_factorial({num-1}) + {num}')\n",
    "\n",
    "    return find_factorial(num-1) * num\n",
    "\n",
    "find_factorial(5)\n",
    "\n"
   ]
  },
  {
   "cell_type": "code",
   "execution_count": 97,
   "metadata": {},
   "outputs": [
    {
     "ename": "SyntaxError",
     "evalue": "cannot assign to function call (3413175806.py, line 1)",
     "output_type": "error",
     "traceback": [
      "\u001b[1;36m  Cell \u001b[1;32mIn[97], line 1\u001b[1;36m\u001b[0m\n\u001b[1;33m    find_factorial(5) = 1*5\u001b[0m\n\u001b[1;37m    ^\u001b[0m\n\u001b[1;31mSyntaxError\u001b[0m\u001b[1;31m:\u001b[0m cannot assign to function call\n"
     ]
    }
   ],
   "source": [
    "find_factorial(5) = 1*5\n",
    "find_factorial(4) = 1*4\n",
    "find_factorial(3) = 1*3\n",
    "find_factorial(2) = 1*2\n",
    "find_factorial(1) = 1"
   ]
  },
  {
   "cell_type": "markdown",
   "metadata": {},
   "source": [
    "#### In-Class Exercise #5 <br>\n",
    "<p>Write a recursive function that subtracts all numbers to the argument given.</p>"
   ]
  },
  {
   "cell_type": "code",
   "execution_count": 102,
   "metadata": {},
   "outputs": [
    {
     "data": {
      "text/plain": [
       "3"
      ]
     },
     "execution_count": 102,
     "metadata": {},
     "output_type": "execute_result"
    }
   ],
   "source": [
    "def rec(num):\n",
    "    if num > 0:\n",
    "        return num - rec(num-1)\n",
    "    \n",
    "    else:\n",
    "        return num\n",
    "rec(6)"
   ]
  },
  {
   "cell_type": "markdown",
   "metadata": {},
   "source": [
    "## Generators <br>\n",
    "<p>Generators are a type of iterable, like lists or tuples. They do not allow indexing, but they can still be iterated through with for loops. They are created using functions and the yield statement.</p>"
   ]
  },
  {
   "cell_type": "markdown",
   "metadata": {},
   "source": [
    "#### Yield Keyword <br>\n",
    "<p>The yield keyword denotes a generator, it doesn't return so it won't leave the function and reset all variables in the function scope, instead it yields the number back to the caller.</p>"
   ]
  },
  {
   "cell_type": "code",
   "execution_count": 103,
   "metadata": {},
   "outputs": [
    {
     "name": "stdout",
     "output_type": "stream",
     "text": [
      "malid\n",
      "tom\n",
      "heather\n"
     ]
    },
    {
     "data": {
      "text/plain": [
       "'heather'"
      ]
     },
     "execution_count": 103,
     "metadata": {},
     "output_type": "execute_result"
    }
   ],
   "source": [
    "def matrix_generator():\n",
    "    yield 'malid'\n",
    "    yield 'tom'\n",
    "    yield 'heather'\n",
    "\n",
    "generator_obj = matrix_generator()\n",
    "\n",
    "for student in generator_obj:\n",
    "    print(student)\n",
    "\n",
    "generator_obj2 = matrix_generator()\n",
    "\n",
    "\n",
    "next(generator_obj2)\n",
    "next(generator_obj2)\n",
    "next(generator_obj2)"
   ]
  },
  {
   "cell_type": "code",
   "execution_count": 106,
   "metadata": {},
   "outputs": [
    {
     "name": "stdout",
     "output_type": "stream",
     "text": [
      "0\n",
      "1\n",
      "2\n",
      "3\n",
      "4\n",
      "5\n",
      "6\n",
      "7\n",
      "8\n",
      "9\n",
      "10\n",
      "11\n",
      "12\n",
      "13\n",
      "14\n",
      "15\n",
      "16\n",
      "17\n",
      "18\n",
      "19\n",
      "0\n",
      "1\n",
      "2\n",
      "3\n",
      "start loop\n",
      "4\n"
     ]
    }
   ],
   "source": [
    "def my_range(stop, start=0, step=1):\n",
    "    while start <stop:\n",
    "        yield start\n",
    "        start += step\n",
    "\n",
    "\n",
    "for num in my_range(20):\n",
    "    print(num)\n",
    "\n",
    "range_five = my_range(5)\n",
    "\n",
    "print(next(range_five))\n",
    "print(next(range_five))\n",
    "print(next(range_five))\n",
    "print(next(range_five))\n",
    "\n",
    "\n",
    "print('start loop')\n",
    "for num in range_five:\n",
    "\n",
    "    print (num)"
   ]
  },
  {
   "cell_type": "markdown",
   "metadata": {},
   "source": [
    "#### Infinite Generator"
   ]
  },
  {
   "cell_type": "code",
   "execution_count": null,
   "metadata": {},
   "outputs": [],
   "source": [
    "# bad, never create infinite loops"
   ]
  },
  {
   "cell_type": "markdown",
   "metadata": {},
   "source": [
    "#### In-Class Exercise #6 <br>\n",
    "<p>Create a generator that takes a number argument and yields that number squared, then prints each number squared until zero is reached.</p>"
   ]
  },
  {
   "cell_type": "code",
   "execution_count": null,
   "metadata": {},
   "outputs": [],
   "source": []
  },
  {
   "cell_type": "markdown",
   "metadata": {},
   "source": [
    "# Exercises"
   ]
  },
  {
   "cell_type": "markdown",
   "metadata": {},
   "source": [
    "### Exercise #1 <br>\n",
    "<p>Filter out all of the empty strings from the list below</p>\n",
    "\n",
    "`Output: ['Argentina', 'San Diego', 'Boston', 'New York']`"
   ]
  },
  {
   "cell_type": "code",
   "execution_count": 175,
   "metadata": {},
   "outputs": [
    {
     "name": "stdout",
     "output_type": "stream",
     "text": [
      "['Argentina', 'San Diego', 'Boston', 'New York']\n"
     ]
    }
   ],
   "source": [
    "places = [\" \",\"Argentina\", \" \", \"San Diego\",\"\",\"  \",\"\",\"Boston\",\"New York\"]\n",
    "\n",
    "filter_places = list(filter(lambda str:True if str not in (\"  \") else False, places))\n",
    "print(filter_places)\n",
    "\n",
    "\n"
   ]
  },
  {
   "cell_type": "markdown",
   "metadata": {},
   "source": [
    "### Exercise #2 <br>\n",
    "<p>Write an anonymous function that sorts this list by the last name...<br><b>Hint: Use the \".sort()\" method and access the key\"</b></p>\n",
    "\n",
    "`Output: ['Victor aNisimov', 'Gary A.J. Bernstein', 'Joel Carter', 'Andrew P. Garfield', 'David hassELHOFF']`"
   ]
  },
  {
   "cell_type": "code",
   "execution_count": 173,
   "metadata": {},
   "outputs": [
    {
     "name": "stdout",
     "output_type": "stream",
     "text": [
      "['Victor aNisimov', 'Gary A.J. Bernstein', 'Joel Carter', 'Andrew P. Garfield', 'David hassELHOFF']\n"
     ]
    }
   ],
   "source": [
    "author = [\"Joel Carter\", \"Victor aNisimov\", \"Andrew P. Garfield\",\"David hassELHOFF\",\"Gary A.J. Bernstein\"]\n",
    "\n",
    "#lambda\n",
    "#in alph order  but not case sensetive\n",
    "\n",
    "\n",
    "author.sort(key = lambda last_name: last_name.split(\" \")[-1].lower())\n",
    "\n",
    "print(author)\n",
    " \n",
    "#last_name_alpha_order = author.sort(lambda last_name: last_name.split())\n",
    "\n",
    "#print(author.sort)\n"
   ]
  },
  {
   "cell_type": "markdown",
   "metadata": {},
   "source": [
    "### Exercise #3 <br>\n",
    "<p>Convert the list below from Celsius to Farhenheit, using the map function with a lambda...</p>\n",
    "\n",
    "`Output: [('Nashua', 89.6), ('Boston', 53.6), ('Los Angelos', 111.2), ('Miami', 84.2)]\n",
    "`"
   ]
  },
  {
   "cell_type": "code",
   "execution_count": 270,
   "metadata": {},
   "outputs": [],
   "source": [
    "# F = (9/5)*C + 32\n",
    "#places = [('Nashua',32),(\"Boston\",12),(\"Los Angelos\",44),(\"Miami\",29)]\n",
    "#converted_temp= list(map(lambda num: (9/5*num) + 32, [32,12,44,29]))\n",
    "#print(converted_temp)\n",
    "\n",
    "#new_lst=[]\n",
    "\n",
    "#for city in places:\n",
    "    #new_lst.append(city[0])\n",
    "    #print(new_lst)\n",
    "\n",
    "\n",
    "#fer_temp= []\n",
    "#for i in range(len(new_lst)):\n",
    " #   fer_temp.append((new_lst[i],converted_temp[i]))\n",
    "\n",
    "#print(fer_temp)\n",
    "\n",
    "lst=[('Nashua', 89.6), ('Boston', 53.6), ('Los Angelos', 111.2), ('Miami', 84.2)]\n",
    "\n",
    "\n",
    "\n",
    "def cel_fer(anything):\n",
    "    ### im making a list of all the temps from the list of tuples converted to f\n",
    "    celcius_temp= []\n",
    "    for city, temp in anything:\n",
    "        celcius_temp.append(temp)\n",
    "    converted_temp = list(map(lambda num: (9/5*num) + 32, [celcius_temp]))\n",
    "    \n",
    "    #### im creating a new list of just the cities from my list of tuples \n",
    "    new_lst=[]\n",
    "    for city in anything:\n",
    "        new_lst.append(city[0])\n",
    "                       \n",
    "    #### im bringing together my list of cities and converted temps to create a list of tuple shown\n",
    "    #### i created this list so i could get back to this moment\n",
    "    #fer_temp= []\n",
    "    #for i in range(len(new_lst)):\n",
    "    #    fer_temp.append((new_lst[i],converted_temp[i]))\n",
    "\n",
    "    ####i'm returning my newly created list of tuples to whoever called them out im zipping together two list to return \n",
    "        return list(zip(new_lst, converted_temp))\n",
    "\n",
    "       \n",
    "    ####im diplaying the return of my cel_fer function when its fed a list of tuples\n",
    "\n",
    "    print(cel_fer(lst))\n",
    "\n"
   ]
  },
  {
   "cell_type": "markdown",
   "metadata": {},
   "source": [
    "### Exercise #4 <br>\n",
    "<p>Write a recursion function to perform the fibonacci sequence up to the number passed in.</p>\n",
    "\n",
    "`Output for fib(5) => \n",
    "Iteration 0: 1\n",
    "Iteration 1: 1\n",
    "Iteration 2: 2\n",
    "Iteration 3: 3\n",
    "Iteration 4: 5\n",
    "Iteration 5: 8`"
   ]
  },
  {
   "cell_type": "code",
   "execution_count": null,
   "metadata": {
    "scrolled": true
   },
   "outputs": [],
   "source": [
    "#previous two values added up"
   ]
  }
 ],
 "metadata": {
  "kernelspec": {
   "display_name": "Python 3 (ipykernel)",
   "language": "python",
   "name": "python3"
  },
  "language_info": {
   "codemirror_mode": {
    "name": "ipython",
    "version": 3
   },
   "file_extension": ".py",
   "mimetype": "text/x-python",
   "name": "python",
   "nbconvert_exporter": "python",
   "pygments_lexer": "ipython3",
   "version": "3.9.13"
  }
 },
 "nbformat": 4,
 "nbformat_minor": 2
}
